{
 "cells": [
  {
   "cell_type": "code",
   "execution_count": 1,
   "metadata": {},
   "outputs": [],
   "source": [
    "from redis import Redis"
   ]
  },
  {
   "cell_type": "code",
   "execution_count": 2,
   "metadata": {},
   "outputs": [
    {
     "name": "stdout",
     "output_type": "stream",
     "text": [
      "Redis version: 7.2.3\n"
     ]
    }
   ],
   "source": [
    "# All responses are returned as bytes in Python.\n",
    "# To receive decoded strings, set decode_responses=True\n",
    "redis = Redis (host='127.0.0.1', port='6379', decode_responses=True)\n",
    "# redis = Redis (host='localhost', port='6379', decode_responses=True) (does the same as the one above)\n",
    "print (f\"Redis version: {redis.info() ['redis_version']}\")"
   ]
  },
  {
   "cell_type": "code",
   "execution_count": 3,
   "metadata": {},
   "outputs": [
    {
     "name": "stdout",
     "output_type": "stream",
     "text": [
      "Key: foo | Value: bar\n"
     ]
    }
   ],
   "source": [
    "# create a new key - value \n",
    "redis.set('foo', 'bar')\n",
    "# get the value for the key created\n",
    "value = redis.get('foo')\n",
    "print(f\"Key: foo | Value: {value}\")"
   ]
  },
  {
   "cell_type": "code",
   "execution_count": 4,
   "metadata": {},
   "outputs": [
    {
     "name": "stdout",
     "output_type": "stream",
     "text": [
      "Key: fool | Value: bar1\n",
      "Key: foo2 | Value: bar2\n"
     ]
    }
   ],
   "source": [
    "# create a new key - value\n",
    "redis.mset({'fool': 'bar1', 'foo2': 'bar2'}) \n",
    "# get the value for the key created \n",
    "value = redis.mget('fool', 'foo2') \n",
    "print (f\"Key: fool | Value: {value[0]}\")\n",
    "print (f\"Key: foo2 | Value: {value[1]}\")"
   ]
  },
  {
   "cell_type": "code",
   "execution_count": 10,
   "metadata": {},
   "outputs": [
    {
     "data": {
      "text/plain": [
       "4"
      ]
     },
     "execution_count": 10,
     "metadata": {},
     "output_type": "execute_result"
    }
   ],
   "source": [
    "redis.strlen(\"fool\")"
   ]
  },
  {
   "cell_type": "code",
   "execution_count": null,
   "metadata": {},
   "outputs": [],
   "source": []
  }
 ],
 "metadata": {
  "kernelspec": {
   "display_name": "venv",
   "language": "python",
   "name": "python3"
  },
  "language_info": {
   "codemirror_mode": {
    "name": "ipython",
    "version": 3
   },
   "file_extension": ".py",
   "mimetype": "text/x-python",
   "name": "python",
   "nbconvert_exporter": "python",
   "pygments_lexer": "ipython3",
   "version": "3.9.6"
  }
 },
 "nbformat": 4,
 "nbformat_minor": 2
}
