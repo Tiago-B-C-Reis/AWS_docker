{
 "cells": [
  {
   "cell_type": "code",
   "execution_count": 1,
   "metadata": {},
   "outputs": [],
   "source": [
    "from redis import Redis"
   ]
  },
  {
   "cell_type": "code",
   "execution_count": 2,
   "metadata": {},
   "outputs": [],
   "source": [
    "redis = Redis (host='localhost', port='6379', decode_responses=True)"
   ]
  },
  {
   "cell_type": "code",
   "execution_count": 16,
   "metadata": {},
   "outputs": [
    {
     "name": "stdout",
     "output_type": "stream",
     "text": [
      "1\n"
     ]
    }
   ],
   "source": [
    "res1 = redis.sadd(\"bikes:racing:france\", \"bike:1\") # return 1 becasue it has inserted 1 value\n",
    "print(res1) # >>> 1"
   ]
  },
  {
   "cell_type": "code",
   "execution_count": 17,
   "metadata": {},
   "outputs": [
    {
     "name": "stdout",
     "output_type": "stream",
     "text": [
      "0\n"
     ]
    }
   ],
   "source": [
    "res2 = redis.sadd(\"bikes:racing:france\", \"bike:1\") # this one retuns zero because the SET does not allow duplicates\n",
    "print(res2) # >>> 0"
   ]
  },
  {
   "cell_type": "code",
   "execution_count": 18,
   "metadata": {},
   "outputs": [
    {
     "name": "stdout",
     "output_type": "stream",
     "text": [
      "2\n"
     ]
    }
   ],
   "source": [
    "res3 = redis.sadd(\"bikes:racing:france\", \"bike:2\", \"bike:3\") # return 1 becasue it has inserted 2 values\n",
    "print(res3) # >>> 2"
   ]
  },
  {
   "cell_type": "code",
   "execution_count": 19,
   "metadata": {},
   "outputs": [
    {
     "name": "stdout",
     "output_type": "stream",
     "text": [
      "2\n"
     ]
    }
   ],
   "source": [
    "res4 = redis.sadd(\"bikes:racing:usa\", \"bike:1\", \"bike:4\")\n",
    "print(res4) # >>> 2"
   ]
  },
  {
   "cell_type": "code",
   "execution_count": 21,
   "metadata": {},
   "outputs": [
    {
     "name": "stdout",
     "output_type": "stream",
     "text": [
      "1\n"
     ]
    }
   ],
   "source": [
    "# check if bike:1 is a member of bikes: racing: usa\n",
    "res5 = redis.sismember(\"bikes:racing:usa\", \"bike:1\") \n",
    "print(res5) # >>> 1"
   ]
  },
  {
   "cell_type": "code",
   "execution_count": 22,
   "metadata": {},
   "outputs": [
    {
     "name": "stdout",
     "output_type": "stream",
     "text": [
      "0\n"
     ]
    }
   ],
   "source": [
    "#checkif bike: 2 is a member of bikes: racing:usa\n",
    "res6 = redis.sismember (\"bikes:racing: usa\", \"bike:2\") \n",
    "print(res6) # >>> 0"
   ]
  },
  {
   "cell_type": "code",
   "execution_count": 24,
   "metadata": {},
   "outputs": [
    {
     "name": "stdout",
     "output_type": "stream",
     "text": [
      "{'bike:1'}\n"
     ]
    }
   ],
   "source": [
    "# intersection get the values that exists in both sets\n",
    "res7= redis.sinter(\"bikes:racing:france\", \"bikes:racing:usa\") \n",
    "print(res7)"
   ]
  },
  {
   "cell_type": "code",
   "execution_count": 26,
   "metadata": {},
   "outputs": [
    {
     "name": "stdout",
     "output_type": "stream",
     "text": [
      "3\n"
     ]
    }
   ],
   "source": [
    "# get the number of elements in set res = redis.scard(\"bikes: racing: france\") print(res) # >>> 3\n",
    "res8= redis.scard(\"bikes:racing:france\") \n",
    "print(res8)"
   ]
  },
  {
   "cell_type": "code",
   "execution_count": 79,
   "metadata": {},
   "outputs": [
    {
     "name": "stdout",
     "output_type": "stream",
     "text": [
      "True\n"
     ]
    }
   ],
   "source": [
    "# Move member from the set at source to the set at destination. \n",
    "res9 = redis.smove(\"bikes:racing:france\", \"bikes:racing:usa\", \"bike:3\")\n",
    "print(res9)"
   ]
  },
  {
   "cell_type": "code",
   "execution_count": 50,
   "metadata": {},
   "outputs": [
    {
     "name": "stdout",
     "output_type": "stream",
     "text": [
      "1\n"
     ]
    }
   ],
   "source": [
    "# add value Norem with score 10\n",
    "res1 = redis.zadd(\"racer_scores\", {\"Norem\": 10}) \n",
    "print(res1) # >>> 1"
   ]
  },
  {
   "cell_type": "code",
   "execution_count": 61,
   "metadata": {},
   "outputs": [
    {
     "name": "stdout",
     "output_type": "stream",
     "text": [
      "0\n"
     ]
    }
   ],
   "source": [
    "# add value Castilla with score 12\n",
    "res2 = redis.zadd(\"racer_scores\", {\"Castilla\": 12})\n",
    "print(res2) # >>> 1"
   ]
  },
  {
   "cell_type": "code",
   "execution_count": 52,
   "metadata": {},
   "outputs": [
    {
     "name": "stdout",
     "output_type": "stream",
     "text": [
      "4\n"
     ]
    }
   ],
   "source": [
    "res3 = redis.zadd(\"racer_scores\", {\"Sam-Bodden\": 8, \"Royce\": 10, \"Ford\": 6, \"Prickett\": 14, \"Castilla\": 12},)\n",
    "print(res3) # >>> 4"
   ]
  },
  {
   "cell_type": "code",
   "execution_count": 53,
   "metadata": {},
   "outputs": [
    {
     "name": "stdout",
     "output_type": "stream",
     "text": [
      "['Ford', 'Sam-Bodden', 'Norem', 'Royce', 'Castilla', 'Prickett']\n"
     ]
    }
   ],
   "source": [
    "# ZRANGE order is low to high\n",
    "res4 = redis.zrange(\"racer_scores\", 0, -1) \n",
    "print(res4) # >>> [ 'Ford', 'Sam-Bodden', 'Norem', 'Royce', 'Castilla', 'Prickett']"
   ]
  },
  {
   "cell_type": "code",
   "execution_count": 55,
   "metadata": {},
   "outputs": [
    {
     "name": "stdout",
     "output_type": "stream",
     "text": [
      "['Prickett', 'Castilla', 'Royce', 'Norem', 'Sam-Bodden', 'Ford']\n"
     ]
    }
   ],
   "source": [
    "# ZREVRANGE order is high to low:\n",
    "res5 = redis.zrevrange(\"racer_scores\", 0, -1)\n",
    "print(res5) # >>> ['Prickett', 'Castilla', 'Royce', 'Norem', 'Sam-Bodden', 'Ford']"
   ]
  },
  {
   "cell_type": "code",
   "execution_count": 56,
   "metadata": {},
   "outputs": [
    {
     "name": "stdout",
     "output_type": "stream",
     "text": [
      "['Ford', 'Sam-Bodden', 'Norem', 'Royce']\n"
     ]
    }
   ],
   "source": [
    "# all the racers with 10 or fewer points\n",
    "res7 = redis.zrangebyscore(\"racer_scores\", \"-inf\", 10) \n",
    "print(res7) # >>> ['Ford', 'Sam-Bodden', 'Norem', 'Royce']]"
   ]
  },
  {
   "cell_type": "code",
   "execution_count": 63,
   "metadata": {},
   "outputs": [
    {
     "name": "stdout",
     "output_type": "stream",
     "text": [
      "6\n"
     ]
    }
   ],
   "source": [
    "# Returns the sorted set cardinality (number of elements) of the sorted set stored at key.\n",
    "res = redis.zcard(\"racer_scores\")\n",
    "print(res)"
   ]
  },
  {
   "cell_type": "code",
   "execution_count": 66,
   "metadata": {},
   "outputs": [
    {
     "name": "stdout",
     "output_type": "stream",
     "text": [
      "4\n"
     ]
    }
   ],
   "source": [
    "# Returns the number of elements in the sorted set at key with a score between min and max.\n",
    "res = redis.zcount(\"racer_scores\", 0, 10)\n",
    "print(res)"
   ]
  },
  {
   "cell_type": "code",
   "execution_count": null,
   "metadata": {},
   "outputs": [],
   "source": []
  },
  {
   "cell_type": "code",
   "execution_count": 67,
   "metadata": {},
   "outputs": [],
   "source": [
    "key = \"bike: 1\"\n",
    "data = {\n",
    "    \"model\": \"Deimos\",\n",
    "    \"brand\": \"Ergonom\",\n",
    "    \"type\": \"Enduro bikes\", \n",
    "    \"price\": 4972,\n",
    "}"
   ]
  },
  {
   "cell_type": "code",
   "execution_count": 71,
   "metadata": {},
   "outputs": [
    {
     "name": "stdout",
     "output_type": "stream",
     "text": [
      "Key: bike: 1 | Number of values inserted: 0\n"
     ]
    }
   ],
   "source": [
    "res1 = redis.hset(\n",
    "    key,\n",
    "    mapping=data,\n",
    ")\n",
    "print(f\"Key: {key} | Number of values inserted: {res1}\")\n"
   ]
  },
  {
   "cell_type": "code",
   "execution_count": 73,
   "metadata": {},
   "outputs": [
    {
     "data": {
      "text/plain": [
       "0"
      ]
     },
     "execution_count": 73,
     "metadata": {},
     "output_type": "execute_result"
    }
   ],
   "source": [
    "redis.hset(key, \"year\", 2000)"
   ]
  },
  {
   "cell_type": "code",
   "execution_count": 74,
   "metadata": {},
   "outputs": [
    {
     "name": "stdout",
     "output_type": "stream",
     "text": [
      "Key: bike: 1 | Field: price | Value: 4972\n"
     ]
    }
   ],
   "source": [
    "res3 = redis.hget(\"bike: 1\", \"price\")\n",
    "print (f\"Key: {key} | Field: price | Value: {res3}\")"
   ]
  },
  {
   "cell_type": "code",
   "execution_count": 75,
   "metadata": {},
   "outputs": [
    {
     "name": "stdout",
     "output_type": "stream",
     "text": [
      "{'model': 'Deimos', 'brand': 'Ergonom', 'type': 'Enduro bikes', 'price': '4972', 'year': '2000'}\n"
     ]
    }
   ],
   "source": [
    "res4 = redis.hgetall(\"bike: 1\")\n",
    "print(res4)"
   ]
  },
  {
   "cell_type": "code",
   "execution_count": 76,
   "metadata": {},
   "outputs": [
    {
     "name": "stdout",
     "output_type": "stream",
     "text": [
      "['Deimos', '4972']\n"
     ]
    }
   ],
   "source": [
    "# to return more than one field\n",
    "# returns an array of values\n",
    "res5 = redis.hmget(\"bike: 1\", [\"model\", \"price\"]) \n",
    "print(res5)"
   ]
  },
  {
   "cell_type": "code",
   "execution_count": 77,
   "metadata": {},
   "outputs": [
    {
     "name": "stdout",
     "output_type": "stream",
     "text": [
      "['model', 'brand', 'type', 'price', 'year']\n"
     ]
    }
   ],
   "source": [
    "# Returns all field names in the hash stored at key. (https://redis.io/commands/?group=hash)\n",
    "res = redis.hkeys(\"bike: 1\")\n",
    "print(res)"
   ]
  },
  {
   "cell_type": "code",
   "execution_count": null,
   "metadata": {},
   "outputs": [],
   "source": []
  },
  {
   "cell_type": "code",
   "execution_count": 89,
   "metadata": {},
   "outputs": [
    {
     "data": {
      "text/plain": [
       "5"
      ]
     },
     "execution_count": 89,
     "metadata": {},
     "output_type": "execute_result"
    }
   ],
   "source": [
    "key = 'bikes'\n",
    "redis.rpush(key, 'bike:1')\n",
    "\n",
    "data_array = ['bike:2', 'bike:3']\n",
    "redis.rpush(key, *data_array)"
   ]
  },
  {
   "cell_type": "code",
   "execution_count": 82,
   "metadata": {},
   "outputs": [
    {
     "name": "stdout",
     "output_type": "stream",
     "text": [
      "Key: bikes | Elements: ['bike:1', 'bike:2', 'bike:3', 'bike:1', 'bike:2', 'bike:3']\n",
      "Key: bikes | Length: 6\n"
     ]
    }
   ],
   "source": [
    "print(f\"Key: {key} | Elements: {redis.lrange(key,0,-1)}\")\n",
    "print(f\"Key: {key} | Length: {redis. llen (key)}\")"
   ]
  },
  {
   "cell_type": "code",
   "execution_count": 85,
   "metadata": {},
   "outputs": [
    {
     "name": "stdout",
     "output_type": "stream",
     "text": [
      "Key: bikes | Element removed: bike:1\n",
      "Key: bikes | Current Elements: ['bike:1', 'bike:2', 'bike:3']\n",
      "Key: bikes | Length: 3\n"
     ]
    }
   ],
   "source": [
    "value = redis.rpop(key)\n",
    "print(f\"Key: {key} | Element removed: {value}\")\n",
    "print(f\"Key: {key} | Current Elements: {redis.lrange (key, 0, -1)}\") \n",
    "print(f\"Key: {key} | Length: {redis.llen (key)}\")"
   ]
  },
  {
   "cell_type": "code",
   "execution_count": 90,
   "metadata": {},
   "outputs": [
    {
     "name": "stdout",
     "output_type": "stream",
     "text": [
      "Key: bikes |Current Elements: ['bike:2', 'bike:3', 'bike:1', 'bike:2', 'bike:3', 'bike:4', 'bike:5']\n"
     ]
    }
   ],
   "source": [
    "res = redis.rpush(\n",
    "    key, \"bike:4\", \"bike:5\"\n",
    "    )\n",
    "print(f\"Key: {key} |Current Elements: {redis.lrange(key, 0, -1)}\")"
   ]
  },
  {
   "cell_type": "code",
   "execution_count": 93,
   "metadata": {},
   "outputs": [
    {
     "name": "stdout",
     "output_type": "stream",
     "text": [
      "Key: bikes | Current Elements: ['bike:1', 'bike:2', 'bike:3', 'bike:4']\n",
      "Key: bikes | Length: 4\n"
     ]
    }
   ],
   "source": [
    "redis.ltrim(key, 1, -1)\n",
    "print(f\"Key: {key} | Current Elements: {redis.lrange (key, 0, -1)}\") \n",
    "print(f\"Key: {key} | Length: {redis.llen (key)}\")"
   ]
  },
  {
   "cell_type": "code",
   "execution_count": null,
   "metadata": {},
   "outputs": [],
   "source": []
  },
  {
   "cell_type": "code",
   "execution_count": null,
   "metadata": {},
   "outputs": [],
   "source": []
  },
  {
   "cell_type": "code",
   "execution_count": null,
   "metadata": {},
   "outputs": [],
   "source": []
  }
 ],
 "metadata": {
  "kernelspec": {
   "display_name": "venv",
   "language": "python",
   "name": "python3"
  },
  "language_info": {
   "codemirror_mode": {
    "name": "ipython",
    "version": 3
   },
   "file_extension": ".py",
   "mimetype": "text/x-python",
   "name": "python",
   "nbconvert_exporter": "python",
   "pygments_lexer": "ipython3",
   "version": "3.9.6"
  }
 },
 "nbformat": 4,
 "nbformat_minor": 2
}
